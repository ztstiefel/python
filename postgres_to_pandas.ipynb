{
 "cells": [
  {
   "attachments": {},
   "cell_type": "markdown",
   "metadata": {},
   "source": [
    "# Houston Climate Analysis\n",
    "\n",
    "This is the first commit of a project I am working on to identify trends and changes in Houston's climate over time. \n",
    "\n",
    "The data is from [Visual Crossing](https://visualcrossing.com). They data for this project  contains 50 years (1972-2023) of measurements taken from a number of weather stations in the greater Houston area."
   ]
  },
  {
   "cell_type": "code",
   "execution_count": 239,
   "metadata": {},
   "outputs": [],
   "source": [
    "import psycopg2\n",
    "import pandas as pd\n",
    "import matplotlib.pyplot as plt\n",
    "from IPython.display import display\n",
    "import config"
   ]
  },
  {
   "cell_type": "code",
   "execution_count": 240,
   "metadata": {},
   "outputs": [],
   "source": [
    "conn = psycopg2.connect(host=config.host, port=5432, dbname=config.db_name, user=config.db_user, password=config.db_pw)"
   ]
  },
  {
   "cell_type": "code",
   "execution_count": 241,
   "metadata": {},
   "outputs": [],
   "source": [
    "cur = conn.cursor()"
   ]
  },
  {
   "cell_type": "code",
   "execution_count": 242,
   "metadata": {},
   "outputs": [],
   "source": [
    "sql = \"\"\"SELECT \n",
    "\t\t   EXTRACT(YEAR FROM datetime) AS year,\n",
    "\t\t   SUM(precip) AS annual_precip\n",
    "\t\tFROM \n",
    "\t\t   houston_historical\n",
    "\t\tWHERE \n",
    "\t\t   EXTRACT(YEAR FROM datetime) <> 2023\n",
    "\t\tGROUP BY \n",
    "\t\t   EXTRACT(YEAR FROM datetime)\n",
    "\t\tORDER BY \n",
    "\t\t   year ASC\"\"\""
   ]
  },
  {
   "cell_type": "code",
   "execution_count": 243,
   "metadata": {},
   "outputs": [],
   "source": [
    "cur.execute(sql)"
   ]
  },
  {
   "cell_type": "code",
   "execution_count": 244,
   "metadata": {},
   "outputs": [],
   "source": [
    "query_results = cur.fetchall()"
   ]
  },
  {
   "cell_type": "code",
   "execution_count": 245,
   "metadata": {},
   "outputs": [],
   "source": [
    "cols = []\n",
    "for elt in cur.description:\n",
    "    cols.append(elt[0])"
   ]
  },
  {
   "cell_type": "code",
   "execution_count": 246,
   "metadata": {},
   "outputs": [],
   "source": [
    "df = pd.DataFrame(data=query_results,columns=cols)"
   ]
  },
  {
   "cell_type": "code",
   "execution_count": 247,
   "metadata": {},
   "outputs": [],
   "source": [
    "df = df.apply(pd.to_numeric)"
   ]
  },
  {
   "cell_type": "code",
   "execution_count": 248,
   "metadata": {},
   "outputs": [
    {
     "name": "stdout",
     "output_type": "stream",
     "text": [
      "      year  annual_precip\n",
      "0   1973.0         70.097\n",
      "1   1974.0         50.820\n",
      "2   1975.0         49.100\n",
      "3   1976.0         53.896\n",
      "4   1977.0         35.920\n",
      "5   1978.0         46.816\n",
      "6   1979.0         62.291\n",
      "7   1980.0         39.966\n",
      "8   1981.0         55.922\n",
      "9   1982.0         46.971\n",
      "10  1983.0         55.000\n",
      "11  1984.0         53.587\n",
      "12  1985.0         51.727\n",
      "13  1986.0         48.256\n",
      "14  1987.0         36.198\n",
      "15  1988.0         24.087\n",
      "16  1989.0         54.276\n",
      "17  1990.0         40.525\n",
      "18  1991.0         61.564\n",
      "19  1992.0         54.972\n",
      "20  1993.0         72.594\n",
      "21  1994.0         51.655\n",
      "22  1995.0         46.500\n",
      "23  1996.0         33.248\n",
      "24  1997.0         58.801\n",
      "25  1998.0         58.301\n",
      "26  1999.0         24.957\n",
      "27  2000.0         47.258\n",
      "28  2001.0         71.490\n",
      "29  2002.0         57.841\n",
      "30  2003.0         44.737\n",
      "31  2004.0         64.143\n",
      "32  2005.0         37.782\n",
      "33  2006.0         57.760\n",
      "34  2007.0         64.760\n",
      "35  2008.0         48.051\n",
      "36  2009.0         21.499\n",
      "37  2010.0         24.539\n",
      "38  2011.0         16.224\n",
      "39  2012.0         38.478\n",
      "40  2013.0         27.105\n",
      "41  2014.0         22.868\n",
      "42  2015.0         40.841\n",
      "43  2016.0         47.168\n",
      "44  2017.0         58.353\n",
      "45  2018.0         29.517\n",
      "46  2019.0         24.228\n",
      "47  2020.0         46.609\n",
      "48  2021.0         42.555\n",
      "49  2022.0         30.186\n"
     ]
    }
   ],
   "source": [
    "print(df)"
   ]
  },
  {
   "cell_type": "code",
   "execution_count": 249,
   "metadata": {},
   "outputs": [
    {
     "data": {
      "image/png": "[encoded data removed]",
      "text/plain": [
       "<Figure size 432x288 with 1 Axes>"
      ]
     },
     "metadata": {
      "needs_background": "light"
     },
     "output_type": "display_data"
    }
   ],
   "source": [
    "fig, ax = plt.subplots()"
   ]
  },
  {
   "cell_type": "code",
   "execution_count": 250,
   "metadata": {},
   "outputs": [
    {
     "data": {
      "text/plain": [
       "[<matplotlib.lines.Line2D at 0x1e23eec68b0>]"
      ]
     },
     "execution_count": 250,
     "metadata": {},
     "output_type": "execute_result"
    }
   ],
   "source": [
    "ax.plot(df['year'], df['annual_precip'], marker='o', label='annual precipitation')"
   ]
  },
  {
   "cell_type": "code",
   "execution_count": 251,
   "metadata": {},
   "outputs": [],
   "source": [
    "slope, intercept, r_value, p_value, std_err = stats.linregress(df['year'], df['annual_precip'])\n",
    "trend_line = intercept + slope * df['year']"
   ]
  },
  {
   "cell_type": "code",
   "execution_count": 252,
   "metadata": {},
   "outputs": [
    {
     "data": {
      "text/plain": [
       "[<matplotlib.lines.Line2D at 0x1e23eec69a0>]"
      ]
     },
     "execution_count": 252,
     "metadata": {},
     "output_type": "execute_result"
    }
   ],
   "source": [
    "ax.plot(df['year'], trend_line, color='r')"
   ]
  },
  {
   "cell_type": "code",
   "execution_count": 253,
   "metadata": {},
   "outputs": [
    {
     "data": {
      "text/plain": [
       "Text(0.5, 1.0, 'Precipitation Trend - Houston, TX 1973-2022')"
      ]
     },
     "execution_count": 253,
     "metadata": {},
     "output_type": "execute_result"
    }
   ],
   "source": [
    "ax.set_xlabel('Year')\n",
    "ax.set_ylabel('Annual Precipitation (inches)')\n",
    "ax.set_title('Precipitation Trend - Houston, TX 1973-2022')"
   ]
  },
  {
   "cell_type": "code",
   "execution_count": 254,
   "metadata": {},
   "outputs": [
    {
     "data": {
      "text/plain": [
       "<matplotlib.legend.Legend at 0x1e23ee3efa0>"
      ]
     },
     "execution_count": 254,
     "metadata": {},
     "output_type": "execute_result"
    }
   ],
   "source": [
    "ax.legend()"
   ]
  },
  {
   "cell_type": "code",
   "execution_count": 255,
   "metadata": {},
   "outputs": [
    {
     "data": {
      "image/png": "[encoded data removed]",
      "text/plain": [
       "<Figure size 432x288 with 1 Axes>"
      ]
     },
     "metadata": {},
     "output_type": "display_data"
    }
   ],
   "source": [
    "display(fig)"
   ]
  },
  {
   "cell_type": "code",
   "execution_count": null,
   "metadata": {},
   "outputs": [],
   "source": []
  }
 ],
 "metadata": {
  "kernelspec": {
   "display_name": "Python 3",
   "language": "python",
   "name": "python3"
  },
  "language_info": {
   "codemirror_mode": {
    "name": "ipython",
    "version": 3
   },
   "file_extension": ".py",
   "mimetype": "text/x-python",
   "name": "python",
   "nbconvert_exporter": "python",
   "pygments_lexer": "ipython3",
   "version": "3.9.5"
  },
  "orig_nbformat": 4
 },
 "nbformat": 4,
 "nbformat_minor": 2
}
